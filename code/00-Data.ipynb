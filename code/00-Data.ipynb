{
 "cells": [
  {
   "cell_type": "markdown",
   "metadata": {},
   "source": [
    "# 데이터 준비\n",
    "워크샵에서 사용할 문서는 Amazon.com의 2023년 실적 보고서(Sec Form 10-Q)로, 미국 증권거래위원회(SEC)에 제출된 분기별 재무 보고서입니다. 이 문서는 아마존의 재무 성과, 위험 요소, 경영진 논의 사항, 기타 규제 공시 내용을 포함하고 있습니다.\n",
    "\n",
    "문서는 다음과 같은 주요 내용을 포함합니다:\n",
    "1. PART I. FINANCIAL INFORMATION 에서는 재무제표, 경영진의 논의 및 분석, 법적 규제 리스크 등을 다루는 위험 요소, 주식 환매 프로그램 및 자본 관리 전략, 현재 진행 중인 소송 및 법적 문제등을 다루는 기타 정보로 이루어져 있습니다.\n",
    "2. PART II: OTHER INFORMATION 에서는 아마존이 연루된 주요 소송 및 법적 분쟁 관련 정보, 사업과 관련된 주요 리스크 및 불확싱성 등의 위험 요소, 그리고 기타 공시 정보를 전달하고 있습니다.\n",
    "\n",
    "![data01](../img/data-01.jpg)"
   ]
  },
  {
   "cell_type": "markdown",
   "metadata": {},
   "source": []
  }
 ],
 "metadata": {
  "language_info": {
   "name": "python"
  }
 },
 "nbformat": 4,
 "nbformat_minor": 2
}
