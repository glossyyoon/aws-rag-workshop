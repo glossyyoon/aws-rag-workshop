{
 "cells": [
  {
   "cell_type": "markdown",
   "metadata": {},
   "source": [
    "# 1. Amazon Bedrock Knowledge Bases - RAG 생성\n",
    "- Amazon SageMaker AI - Notebook - JupyterLab 환경에서 테스트 되었습니다.\n",
    "- Kernel : conda_python3"
   ]
  },
  {
   "cell_type": "markdown",
   "metadata": {},
   "source": [
    "## 1. Setup"
   ]
  },
  {
   "cell_type": "markdown",
   "metadata": {},
   "source": [
    "### 필요한 라이브러리 설치"
   ]
  },
  {
   "cell_type": "code",
   "execution_count": null,
   "metadata": {},
   "outputs": [],
   "source": [
    "# 필요한 라이브러리 설치 (설치 후 커널 재부팅 필요)\n",
    "!pip install -q boto3 --upgrade\n",
    "!pip install -q awscli --upgrade"
   ]
  },
  {
   "cell_type": "markdown",
   "metadata": {},
   "source": [
    "### 라이브러리 임포트 및 세션 설정"
   ]
  },
  {
   "cell_type": "code",
   "execution_count": null,
   "metadata": {},
   "outputs": [],
   "source": [
    "# 필요한 라이브러리 임포트\n",
    "import boto3\n",
    "import json\n",
    "import time\n",
    "import os\n",
    "import uuid\n",
    "from datetime import datetime\n",
    "import pandas as pd\n",
    "from tqdm.notebook import tqdm\n",
    "\n",
    "# AWS 리전 설정\n",
    "region = boto3.session.Session().region_name\n",
    "print(f\"현재 AWS 리전: {region}\")\n",
    "\n",
    "# 세션 및 클라이언트 설정\n",
    "session = boto3.session.Session(region_name=region)\n",
    "bedrock = session.client('bedrock')\n",
    "bedrock_runtime = session.client('bedrock-runtime')\n",
    "bedrock_agent = session.client('bedrock-agent')\n",
    "bedrock_agent_runtime = boto3.client('bedrock-agent-runtime')\n",
    "s3 = session.client('s3')"
   ]
  },
  {
   "cell_type": "code",
   "execution_count": null,
   "metadata": {},
   "outputs": [],
   "source": [
    "print(boto3.__version__)"
   ]
  },
  {
   "cell_type": "markdown",
   "metadata": {},
   "source": [
    "### Workshop을 위한 S3 버킷 생성"
   ]
  },
  {
   "cell_type": "code",
   "execution_count": null,
   "metadata": {},
   "outputs": [],
   "source": [
    "# S3 버킷 설정\n",
    "bucket_name = f\"bedrock-kb-workshop-{str(uuid.uuid4())[:8]}\"\n",
    "prefix = \"advanced-rag-workshop\"\n",
    "\n",
    "# 버킷이 존재하지 않으면 생성\n",
    "try:\n",
    "    s3.create_bucket(\n",
    "        Bucket=bucket_name,\n",
    "        CreateBucketConfiguration={'LocationConstraint': region}\n",
    "    )\n",
    "    print(f\"버킷 생성 완료: {bucket_name}\")\n",
    "except Exception as e:\n",
    "    print(f\"버킷 생성 중 오류 발생: {e}\")\n",
    "\n",
    "# S3 경로 설정\n",
    "s3_data_path = f\"s3://{bucket_name}/{prefix}/data\"\n",
    "print(f\"데이터 저장 경로: {s3_data_path}\")"
   ]
  },
  {
   "cell_type": "markdown",
   "metadata": {},
   "source": [
    "### S3 버킷에 데이터 (10-q) 업로드"
   ]
  },
  {
   "cell_type": "code",
   "execution_count": null,
   "metadata": {},
   "outputs": [],
   "source": [
    "# ../data/10-q/ 디렉토리의 PDF 파일들을 S3에 업로드\n",
    "import os\n",
    "import glob\n",
    "from tqdm.notebook import tqdm\n",
    "\n",
    "# PDF 파일 경로 설정\n",
    "pdf_directory = \"./data/10-q/\"\n",
    "\n",
    "# 디렉토리 존재 확인\n",
    "if not os.path.exists(pdf_directory):\n",
    "    print(f\"경고: {pdf_directory} 디렉토리가 존재하지 않습니다.\")\n",
    "    # 디렉토리 생성 (선택적)\n",
    "    os.makedirs(pdf_directory, exist_ok=True)\n",
    "    print(f\"{pdf_directory} 디렉토리를 생성했습니다. 이 디렉토리에 PDF 파일을 넣어주세요.\")\n",
    "else:\n",
    "    # PDF 파일 목록 가져오기\n",
    "    pdf_files = glob.glob(os.path.join(pdf_directory, \"*.pdf\"))\n",
    "    \n",
    "    if not pdf_files:\n",
    "        print(f\"경고: {pdf_directory} 디렉토리에 PDF 파일이 없습니다.\")\n",
    "    else:\n",
    "        print(f\"{len(pdf_files)}개의 PDF 파일을 찾았습니다. S3에 업로드를 시작합니다...\")\n",
    "        \n",
    "        # 각 PDF 파일을 S3에 업로드\n",
    "        for pdf_file in tqdm(pdf_files, desc=\"PDF 파일 업로드 중\"):\n",
    "            file_name = os.path.basename(pdf_file)\n",
    "            s3_key = f\"{prefix}/data/{file_name}\"\n",
    "            \n",
    "            try:\n",
    "                s3.upload_file(\n",
    "                    Filename=pdf_file,\n",
    "                    Bucket=bucket_name,\n",
    "                    Key=s3_key\n",
    "                )\n",
    "                print(f\"모든 PDF 파일이 s3://{bucket_name}/{prefix}/data/ 경로에 업로드되었습니다.\")\n",
    "\n",
    "            except Exception as e:\n",
    "                print(f\"파일 '{file_name}' 업로드 중 오류 발생: {e}\")\n",
    "        \n"
   ]
  },
  {
   "cell_type": "markdown",
   "metadata": {},
   "source": [
    "## 2. KnowledgeBase - RAG 생성 "
   ]
  },
  {
   "cell_type": "markdown",
   "metadata": {},
   "source": [
    "<b> Amazon Bedrock 콘솔 화면에서 Knowledge Bases 를 선택 합니다. </b>\n",
    "\n",
    "![graphrag01](../img/graphrag-01.png)"
   ]
  },
  {
   "cell_type": "markdown",
   "metadata": {},
   "source": [
    "<b> Create 버튼을 누르고 Knowledge Base with vector store를 선택합니다. </b>\n",
    "\n",
    "![aosrag02](../img/aosrag-02.jpg)"
   ]
  },
  {
   "cell_type": "markdown",
   "metadata": {},
   "source": [
    "<b> 다음과 같이 정보를 입력 및 선택 합니다. \n",
    "- Knowledge Base name : aosrag-workshop\n",
    "- IAM permission : Create and use a new service role 선택\n",
    "- Choose data source : Amazon S3 선택\n",
    "그리고 Next 버튼을 누릅니다.\n",
    "</b>\n",
    "\n",
    "![aosrag03](../img/aosrag-03.jpg)"
   ]
  },
  {
   "cell_type": "markdown",
   "metadata": {},
   "source": [
    "<b> 다음과 같이 정보를 입력 및 선택 합니다. \n",
    "- Data source name : 10-q\n",
    "- S3 URI : <앞서 생성된 S3 경로 s3://~~~/data/> 를 입력 또는 선택 합니다.\n",
    "그리고 Next 버튼을 누릅니다.\n",
    "</b>\n",
    "\n",
    "![aosrag04](../img/aosrag-04.jpg)"
   ]
  },
  {
   "cell_type": "markdown",
   "metadata": {},
   "source": [
    "임베딩 모델로 Titan Text Embeddings V2를 선택합니다.\n",
    "![aosrag05](../img/aosrag-05.jpg)"
   ]
  },
  {
   "cell_type": "markdown",
   "metadata": {},
   "source": [
    "Vector store로 OpenSearch Serverless를 선택한 후 Next를 클릭합니다.\n",
    "![aosrag06](../img/aosrag-06.jpg)"
   ]
  },
  {
   "cell_type": "markdown",
   "metadata": {},
   "source": [
    "KB 생성 정보를 확인 후, Create Knowledge Base 버튼을 누릅니다.\n",
    "![aosrag07](../img/aosrag-07.jpg)"
   ]
  },
  {
   "cell_type": "markdown",
   "metadata": {},
   "source": [
    "수 분후 KB - OpenSearch Vector Store가 생성되며, 여기서 다음 정보를 확인합니다.\n",
    "<br>해당 정보는 다음 단계 수행을 위해 값을 복사합니다.\n",
    "- Knowledge Base ID\n",
    "![aosrag08](../img/aosrag-08.jpg)"
   ]
  },
  {
   "cell_type": "markdown",
   "metadata": {},
   "source": [
    "Data source에서 Data Sync를 수행합니다.\n",
    "* Data source(10-q)를 선택합니다.\n",
    "* Sync 버튼을 누른 뒤 몇 분 기다리면 Data Sync가 완료됩니다. 이후 Status: Available 상태로 표시됩니다.\n",
    "![aosrag09](../img/aosrag-09.jpg)"
   ]
  },
  {
   "cell_type": "markdown",
   "metadata": {},
   "source": [
    "## 3. RAG 실행"
   ]
  },
  {
   "cell_type": "markdown",
   "metadata": {},
   "source": [
    "앞서 복사한 Knowledge Base ID의 값을 아래 변수에 저장합니다."
   ]
  },
  {
   "cell_type": "code",
   "execution_count": null,
   "metadata": {},
   "outputs": [],
   "source": [
    "kb_id = \"KB ID 입력\""
   ]
  },
  {
   "cell_type": "code",
   "execution_count": null,
   "metadata": {},
   "outputs": [],
   "source": [
    "def query_knowledge_base(query_text, model_id=\"anthropic.claude-3-5-sonnet-20241022-v2:0\", max_tokens=1000):\n",
    "    try:\n",
    "        # 검색 요청 구성\n",
    "        retrieve_response = bedrock_agent_runtime.retrieve(\n",
    "            knowledgeBaseId=kb_id,\n",
    "            retrievalQuery={\n",
    "                'text': query_text\n",
    "            },\n",
    "            retrievalConfiguration={\n",
    "                'vectorSearchConfiguration': {\n",
    "                    'numberOfResults': 3,\n",
    "                    'overrideSearchType': 'SEMANTIC'                    \n",
    "                }\n",
    "            }\n",
    "        )\n",
    "        \n",
    "        # 검색 결과 확인\n",
    "        retrieved_results = retrieve_response.get('retrievalResults', [])\n",
    "        \n",
    "        if not retrieved_results:\n",
    "            print(\"검색 결과가 없습니다.\")\n",
    "            return None\n",
    "        \n",
    "        # 검색 결과를 컨텍스트로 사용\n",
    "        context = \"\"\n",
    "        for i, result in enumerate(retrieved_results):\n",
    "            content = result['content']['text']\n",
    "            source = result.get('location', {}).get('s3Location', {}).get('uri', '알 수 없는 소스')\n",
    "            score = result.get('score', 0)\n",
    "            \n",
    "            context += f\"\\n\\n참고 문서 {i+1} (관련성 점수: {score}):\\n{content}\\n\"\n",
    "            print(f\"검색 결과 {i+1}: 관련성 점수 {score}\")\n",
    "        \n",
    "        # Claude에 질의 구성\n",
    "        prompt = f\"\"\"\n",
    "사용자의 질문에 답변해 주세요. 다음 참고 문서의 정보를 활용하세요:\n",
    "\n",
    "{context}\n",
    "\n",
    "사용자 질문: {query_text}\n",
    "\n",
    "답변:\n",
    "\"\"\"\n",
    "        \n",
    "        # Claude에 질의 요청 (수정된 부분)\n",
    "        response = bedrock_runtime.converse(\n",
    "            modelId=model_id,\n",
    "            messages=[\n",
    "                {\n",
    "                    \"role\": \"user\",\n",
    "                    \"content\": [\n",
    "                        {\n",
    "                            \"text\": prompt\n",
    "                        }\n",
    "                    ]\n",
    "                }\n",
    "            ],\n",
    "            inferenceConfig={\n",
    "                \"maxTokens\": max_tokens,\n",
    "                \"temperature\": 0.7,\n",
    "                \"topP\": 0.9\n",
    "            }\n",
    "        )\n",
    "        \n",
    "        # 응답 추출 및 반환\n",
    "        answer = response['output']['message']['content'][0]['text']\n",
    "        return answer\n",
    "        \n",
    "    except Exception as e:\n",
    "        print(f\"쿼리 실행 중 오류 발생: {e}\")\n",
    "        return None"
   ]
  },
  {
   "cell_type": "code",
   "execution_count": null,
   "metadata": {},
   "outputs": [],
   "source": [
    "# 쿼리 예제 실행\n",
    "test_queries = [\n",
    "    \"Amazon의 총 순매출은 시간이 지남에 따라 어떻게 변화했나요?\",\n",
    "    \"Amazon의 운영 비용 증가가 각 사업 부문의 수익성과 전반적인 재무 성과에 어떤 영향을 미쳤으며, 이는 다른 재무 지표들과 어떤 연관성을 보이나요?\",\n",
    "    \"Form 1O-Q 사용에 관한 규칙은 무엇인가요?\"\n",
    "]\n",
    "\n",
    "for query in test_queries:\n",
    "    print(f\"\\n질문: {query}\")\n",
    "    answer = query_knowledge_base(query)\n",
    "    if answer:\n",
    "        print(f\"\\n답변:\\n{answer}\")\n",
    "    print(\"-\" * 80)"
   ]
  }
 ],
 "metadata": {
  "language_info": {
   "name": "python"
  }
 },
 "nbformat": 4,
 "nbformat_minor": 2
}
