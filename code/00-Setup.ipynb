{
 "cells": [
  {
   "cell_type": "markdown",
   "metadata": {},
   "source": [
    "# 1. 실행 환경 SetUp\n",
    "- 원활한 워크샵 진행을 위해 Amazon SageMaker AI - Notebook - JupyterLab 환경을 사용합니다.\n",
    "- 워크샵은 Oregon(us-west-2) 리전에서 실행됩니다."
   ]
  },
  {
   "cell_type": "markdown",
   "metadata": {},
   "source": [
    "## 1. Bedrock Model Access 권한 및 SageMaker IAM 설정\n",
    "1. Bedrock - Model access 탭으로 이동하여 Enable specific models를 클릭합니다.\n",
    "![setup001](../img/setup-001.jpg)"
   ]
  },
  {
   "cell_type": "markdown",
   "metadata": {},
   "source": [
    "2. Titan Embeddings V2와 Claude 3 Sonnet을 선택하고 enable 합니다.\n",
    "![setup002](../img/setup-002.jpg)"
   ]
  },
  {
   "cell_type": "markdown",
   "metadata": {},
   "source": [
    "3. [Amazon SageMaker AI](https://us-east-1.console.aws.amazon.com/sagemaker/home?region=us-east-1#/landing)로 이동합니다.\n",
    "4. Notebooks를 클릭하여 SageMaker Notebook을 실행할 수 있는 페이지로 이동합니다.\n",
    "![setup00](../img/setup-01.jpg)"
   ]
  },
  {
   "cell_type": "markdown",
   "metadata": {},
   "source": [
    "JupyterLab in SageMaker Studio는 JupyterLab 애플리케이션을 실행하는 데 필요한 스토리지 및 컴퓨팅 리소스를 관리하는 Studio의 기능입니다. JupyterLab 애플리케이션은 노트북, 코드 및 데이터를 위한 웹 기반 통합 개발 환경(IDE)입니다.\n",
    "기본적으로 JupyterLab 애플리케이션은 PyTorch, TensorFlow, Keras, NumPy, Pandas, Scikit-learn 등의 SageMaker 배포 이미지와 함께 제공됩니다.\n"
   ]
  },
  {
   "cell_type": "markdown",
   "metadata": {},
   "source": [
    "5. GetSarted를 눌러 JupyterLab in SageMaker Studio를 생성하는 페이지로 이동합니다.\n",
    "![setup01](../img/setup-02.jpg)"
   ]
  },
  {
   "cell_type": "markdown",
   "metadata": {},
   "source": [
    "6. Default인 Quick setup을 선택해주어 SageMaker Domain을 생성해줍니다.<br>\n",
    "Quick setup을 통해 다음 설정을 손쉽게 구성합니다.\n",
    "* AmazonSageMakerFullAccess policy를 가진 새로운 IAM role 생성\n",
    "* Public 인터넷 접근 및 standard encryption이 적용된 환경\n",
    "* SageMaker Studio생성\n",
    "* 공유 가능한 SageMaker Studio Notebooks 생성\n",
    "* SageMaker Canvas 생성\n",
    "* IAM Authentication"
   ]
  },
  {
   "cell_type": "markdown",
   "metadata": {},
   "source": [
    "![setup03](../img/setup-03.jpg)"
   ]
  },
  {
   "cell_type": "markdown",
   "metadata": {},
   "source": [
    "7. 해당 작업은 수 분 후 완료되며 생성 후 Status: Ready을 확인하여 성공적으로 생성 되었는지 확인합니다.\n",
    "![setup04](../img/setup-04.jpg)"
   ]
  },
  {
   "cell_type": "markdown",
   "metadata": {},
   "source": [
    "8. Domain 탭에서 방금 생성된 도메인을 클릭합니다.\n",
    "![setup002](../img/setup-003.jpg)"
   ]
  },
  {
   "cell_type": "markdown",
   "metadata": {},
   "source": [
    "9. Domain에서 실행되는 SageMaker ExecutionRole을 복사합니다.\n",
    "![setup004](../img/setup-004.jpg)"
   ]
  },
  {
   "cell_type": "markdown",
   "metadata": {},
   "source": [
    "10. IAM - Role로 이동하여 방금 복사한 Role을 검색합니다.\n",
    "![setup005](../img/setup-005.jpg)"
   ]
  },
  {
   "cell_type": "markdown",
   "metadata": {},
   "source": [
    "11. 해당 Role의 Permissions policies 중 customer managed policy를 클릭합니다.\n",
    "![setup006](../img/setup-006.jpg)"
   ]
  },
  {
   "cell_type": "markdown",
   "metadata": {},
   "source": [
    "12. Edit을 눌러 정책을 수정합니다.\n",
    "![setup007](../img/setup-007.jpg)"
   ]
  },
  {
   "cell_type": "markdown",
   "metadata": {},
   "source": [
    "13. 다음 코드를 붙여넣고 Next - Save changes를 클릭하여 role을 업데이트합니다.\n",
    "```json\n",
    "{\n",
    "    \"Version\": \"2012-10-17\",\n",
    "    \"Statement\": [\n",
    "        {\n",
    "            \"Action\": [\n",
    "                \"s3:ListBucket\"\n",
    "            ],\n",
    "            \"Effect\": \"Allow\",\n",
    "            \"Resource\": [\n",
    "                \"arn:aws:s3:::SageMaker\"\n",
    "            ]\n",
    "        },\n",
    "        {\n",
    "            \"Action\": [\n",
    "            \"s3:GetObject\",\n",
    "                \"s3:PutObject\",\n",
    "                \"s3:DeleteObject\"\n",
    "            ],\n",
    "            \"Effect\": \"Allow\",\n",
    "            \"Resource\": [\n",
    "                \"arn:aws:s3:::*\"\n",
    "            ]\n",
    "        },\n",
    "        {\n",
    "            \"Effect\": \"Allow\",\n",
    "            \"Action\": [\n",
    "                \"bedrock:*\"\n",
    "            ],\n",
    "            \"Resource\": \"*\"\n",
    "        }\n",
    "    ]\n",
    "}\n",
    "\n",
    "```\n"
   ]
  },
  {
   "cell_type": "markdown",
   "metadata": {},
   "source": [
    "14. 코드를 확인한 뒤 Next를 눌러 저장합니다.\n",
    "![setup008](../img/setup-008.jpg)"
   ]
  },
  {
   "cell_type": "markdown",
   "metadata": {},
   "source": [
    "## 2. SageMaker Studio 실행"
   ]
  },
  {
   "cell_type": "markdown",
   "metadata": {},
   "source": [
    "1. Studio 탭으로 이동하여 방금 생성한 도메인 이름과 동일한 도메인을 선택했는지 확인한 후 Open Studio를 클릭해 Studio를 실행합니다.\n",
    "![setup05](../img/setup-05.jpg)"
   ]
  },
  {
   "cell_type": "markdown",
   "metadata": {},
   "source": [
    "2. SageMaker Studio 에 접속하여 JupyterLab applications를 실행합니다.\n",
    "![setup06](../img/setup-06.jpg)"
   ]
  },
  {
   "cell_type": "markdown",
   "metadata": {},
   "source": [
    "3. Create JupyterLab space을 눌러줍니다.\n",
    "![setup07](../img/setup-07.jpg)"
   ]
  },
  {
   "cell_type": "markdown",
   "metadata": {},
   "source": [
    "4. JupyterLab 이름으로 아래를 입력해주고 Create space를 누릅니다.\n",
    "```code{language=md showLineNumbers=false showCopyAction=true}\n",
    "advanced-rag-workshop\n",
    "```\n",
    "![setup08](../img/setup-08.jpg)"
   ]
  },
  {
   "cell_type": "markdown",
   "metadata": {},
   "source": [
    "5. JupyterLab이 생성되면 Run space를 눌러 실행해줍니다.\n",
    "![setup09](../img/setup-09.jpg)"
   ]
  },
  {
   "cell_type": "markdown",
   "metadata": {},
   "source": [
    "6. Open JupyterLab을 눌러 애플리케이션을 실행합니다.\n",
    "![setup10](../img/setup-10.jpg)"
   ]
  },
  {
   "cell_type": "markdown",
   "metadata": {},
   "source": [
    "이제 모든 준비가 완료되었습니다.\n",
    "![setup10](../img/setup-11.jpg)"
   ]
  }
 ],
 "metadata": {
  "kernelspec": {
   "display_name": ".venv",
   "language": "python",
   "name": "python3"
  },
  "language_info": {
   "codemirror_mode": {
    "name": "ipython",
    "version": 3
   },
   "file_extension": ".py",
   "mimetype": "text/x-python",
   "name": "python",
   "nbconvert_exporter": "python",
   "pygments_lexer": "ipython3",
   "version": "3.12.5"
  }
 },
 "nbformat": 4,
 "nbformat_minor": 2
}
