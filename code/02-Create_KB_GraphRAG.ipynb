{
 "cells": [
  {
   "cell_type": "markdown",
   "id": "180505b6-f941-4ab8-b123-65939aa7a9b5",
   "metadata": {},
   "source": [
    "# 2. Amazon Bedrock Knowledge Bases - GraphRAG 생성\n",
    "- Amazon SageMaker AI - Notebook - JupyterLab 환경에서 테스트 되었습니다.\n",
    "- Kernel : conda_python3"
   ]
  },
  {
   "cell_type": "markdown",
   "id": "90b02871-d5f5-49ea-9eca-cf7e182c6ed4",
   "metadata": {},
   "source": [
    "![graphrag00](../img/graphrag-00.png)\n",
    "Amazon Bedrock의 Knowledge Bases와 Amazon Neptune Analytics의 통합으로 GraphRAG를 손쉽게 구현할 수 있습니다. GraphRAG는 기존 RAG 기술을 확장하여 문서 간 관계를 그래프로 구성함으로써 복잡한 문서에서 더 정확하고 맥락에 맞는 정보를 추출합니다. 이 기술은 문서 청크와 비정형 데이터에서 발견된 엔티티 및 관계를 자동으로 연결하는 그래프를 생성하여, 그래프 전문 지식 없이도 더 포괄적이고 정확한 응답을 제공합니다.\n",
    "\n",
    "> 더 자세한 내"
   ]
  },
  {
   "cell_type": "markdown",
   "id": "8ad2d1db-74e9-44cb-8230-614424ebc2d9",
   "metadata": {},
   "source": [
    "## 1. Setup"
   ]
  },
  {
   "cell_type": "markdown",
   "id": "23d167ee-bde7-4a76-9eb7-4136d1003da7",
   "metadata": {},
   "source": [
    "### 필요한 라이브러리 설치"
   ]
  },
  {
   "cell_type": "code",
   "execution_count": 2,
   "id": "69430c10-454c-48b0-831c-61a9f4c11081",
   "metadata": {},
   "outputs": [
    {
     "name": "stdout",
     "output_type": "stream",
     "text": [
      "\u001b[31mERROR: pip's dependency resolver does not currently take into account all the packages that are installed. This behaviour is the source of the following dependency conflicts.\n",
      "sagemaker 2.239.3 requires numpy<2.0,>=1.9.0, but you have numpy 2.2.3 which is incompatible.\u001b[0m\u001b[31m\n",
      "\u001b[0m"
     ]
    }
   ],
   "source": [
    "# 필요한 라이브러리 설치 (설치 후 커널 재부팅 필요)\n",
    "!pip install -q boto3 --upgrade\n",
    "!pip install -q awscli --upgrade"
   ]
  },
  {
   "cell_type": "markdown",
   "id": "7cb9450a-7dd0-4ea4-b42b-91e07323b415",
   "metadata": {},
   "source": [
    "### 라이브러리 임포트 및 세션 설정"
   ]
  },
  {
   "cell_type": "code",
   "execution_count": 23,
   "id": "870d0a78-d65a-494c-8c6b-2f231280e7cb",
   "metadata": {},
   "outputs": [
    {
     "name": "stdout",
     "output_type": "stream",
     "text": [
      "현재 AWS 리전: us-west-2\n"
     ]
    }
   ],
   "source": [
    "# 필요한 라이브러리 임포트\n",
    "import boto3\n",
    "import json\n",
    "import time\n",
    "import os\n",
    "import uuid\n",
    "from datetime import datetime\n",
    "import pandas as pd\n",
    "from tqdm.notebook import tqdm\n",
    "\n",
    "# AWS 리전 설정\n",
    "region = boto3.session.Session().region_name\n",
    "print(f\"현재 AWS 리전: {region}\")\n",
    "\n",
    "# 세션 및 클라이언트 설정\n",
    "session = boto3.session.Session(region_name=region)\n",
    "bedrock = session.client('bedrock')\n",
    "bedrock_runtime = session.client('bedrock-runtime')\n",
    "bedrock_agent = session.client('bedrock-agent')\n",
    "bedrock_agent_runtime = boto3.client('bedrock-agent-runtime')\n",
    "s3 = session.client('s3')\n"
   ]
  },
  {
   "cell_type": "code",
   "execution_count": 4,
   "id": "db1dbbab-36d5-4e5a-8365-9d4c1ff3f8ae",
   "metadata": {},
   "outputs": [
    {
     "name": "stdout",
     "output_type": "stream",
     "text": [
      "1.37.3\n"
     ]
    }
   ],
   "source": [
    "print(boto3.__version__)"
   ]
  },
  {
   "cell_type": "markdown",
   "id": "4fd30cce-461b-44c6-a9f8-50747e5e63c0",
   "metadata": {},
   "source": [
    "### Workshop을 위한 S3 버킷 생성"
   ]
  },
  {
   "cell_type": "code",
   "execution_count": 5,
   "id": "a95f5f92-aa1b-4669-a141-e604d9071916",
   "metadata": {},
   "outputs": [
    {
     "name": "stdout",
     "output_type": "stream",
     "text": [
      "버킷 생성 완료: bedrock-kb-workshop-37734977\n",
      "데이터 저장 경로: s3://bedrock-kb-workshop-37734977/graphrag-workshop/data\n"
     ]
    }
   ],
   "source": [
    "# S3 버킷 설정\n",
    "bucket_name = f\"bedrock-kb-workshop-{str(uuid.uuid4())[:8]}\"\n",
    "prefix = \"graphrag-workshop\"\n",
    "\n",
    "# 버킷이 존재하지 않으면 생성\n",
    "try:\n",
    "    s3.create_bucket(\n",
    "        Bucket=bucket_name,\n",
    "        CreateBucketConfiguration={'LocationConstraint': region} if region != 'us-east-1' else {}\n",
    "    )\n",
    "    print(f\"버킷 생성 완료: {bucket_name}\")\n",
    "except Exception as e:\n",
    "    print(f\"버킷 생성 중 오류 발생: {e}\")\n",
    "    \n",
    "# S3 경로 설정\n",
    "s3_data_path = f\"s3://{bucket_name}/{prefix}/data\"\n",
    "print(f\"데이터 저장 경로: {s3_data_path}\")\n"
   ]
  },
  {
   "cell_type": "markdown",
   "id": "9bc7c899-ecad-48f3-afcf-294b260e2b51",
   "metadata": {},
   "source": [
    "### S3 버킷에 테스트 용 데이터 (10-q) 업로드"
   ]
  },
  {
   "cell_type": "code",
   "execution_count": 7,
   "id": "19ce4d9e-749d-458d-84ad-26a427501741",
   "metadata": {},
   "outputs": [
    {
     "name": "stdout",
     "output_type": "stream",
     "text": [
      "20개의 PDF 파일을 찾았습니다. S3에 업로드를 시작합니다...\n"
     ]
    },
    {
     "data": {
      "application/vnd.jupyter.widget-view+json": {
       "model_id": "d4d69a12161c4e35921eb5db1c2d9aa7",
       "version_major": 2,
       "version_minor": 0
      },
      "text/plain": [
       "PDF 파일 업로드 중:   0%|          | 0/20 [00:00<?, ?it/s]"
      ]
     },
     "metadata": {},
     "output_type": "display_data"
    },
    {
     "name": "stdout",
     "output_type": "stream",
     "text": [
      "모든 PDF 파일이 s3://bedrock-kb-workshop-37734977/graphrag-workshop/data/ 경로에 업로드되었습니다.\n"
     ]
    }
   ],
   "source": [
    "# ../data/10-q/ 디렉토리의 PDF 파일들을 S3에 업로드\n",
    "import os\n",
    "import glob\n",
    "from tqdm.notebook import tqdm\n",
    "\n",
    "# PDF 파일 경로 설정\n",
    "pdf_directory = \"../data/10-q/\"\n",
    "\n",
    "# 디렉토리 존재 확인\n",
    "if not os.path.exists(pdf_directory):\n",
    "    print(f\"경고: {pdf_directory} 디렉토리가 존재하지 않습니다.\")\n",
    "    # 디렉토리 생성 (선택적)\n",
    "    os.makedirs(pdf_directory, exist_ok=True)\n",
    "    print(f\"{pdf_directory} 디렉토리를 생성했습니다. 이 디렉토리에 PDF 파일을 넣어주세요.\")\n",
    "else:\n",
    "    # PDF 파일 목록 가져오기\n",
    "    pdf_files = glob.glob(os.path.join(pdf_directory, \"*.pdf\"))\n",
    "    \n",
    "    if not pdf_files:\n",
    "        print(f\"경고: {pdf_directory} 디렉토리에 PDF 파일이 없습니다.\")\n",
    "    else:\n",
    "        print(f\"{len(pdf_files)}개의 PDF 파일을 찾았습니다. S3에 업로드를 시작합니다...\")\n",
    "        \n",
    "        # 각 PDF 파일을 S3에 업로드\n",
    "        for pdf_file in tqdm(pdf_files, desc=\"PDF 파일 업로드 중\"):\n",
    "            file_name = os.path.basename(pdf_file)\n",
    "            s3_key = f\"{prefix}/data/{file_name}\"\n",
    "            \n",
    "            try:\n",
    "                s3.upload_file(\n",
    "                    Filename=pdf_file,\n",
    "                    Bucket=bucket_name,\n",
    "                    Key=s3_key\n",
    "                )\n",
    "            except Exception as e:\n",
    "                print(f\"파일 '{file_name}' 업로드 중 오류 발생: {e}\")\n",
    "        \n",
    "        print(f\"모든 PDF 파일이 s3://{bucket_name}/{prefix}/data/ 경로에 업로드되었습니다.\")\n"
   ]
  },
  {
   "cell_type": "markdown",
   "id": "55860a15-cf0f-499b-bfe1-a45999789106",
   "metadata": {},
   "source": [
    "## 2. KB - GraphRAG 생성 \n",
    "- [참고] boto3 및 awscli를 통한 KB - GraphRAG 생성은 2025년 1분기에 지원 예정 입니다."
   ]
  },
  {
   "cell_type": "markdown",
   "id": "3055247a-0162-46d5-986d-4c48a20e9bf0",
   "metadata": {},
   "source": [
    "<b> Amazon Bedrock 콘솔 화면에서 Knowledge Bases 를 선택 합니다. </b>\n",
    "\n",
    "![graphrag01](../img/graphrag-01.png)"
   ]
  },
  {
   "cell_type": "markdown",
   "id": "83c025ad-8d6c-42d6-add9-24d930129b8a",
   "metadata": {},
   "source": [
    "<b> Create 버튼을 누르고 Knowledge Base with vector store를 선택합니다. </b>\n",
    "\n",
    "![graphrag03](../img/graphrag-02.png)"
   ]
  },
  {
   "cell_type": "markdown",
   "id": "9f116613-b10a-4a74-a0c3-2a91b4031086",
   "metadata": {},
   "source": [
    "<b> 다음과 같이 정보를 입력 및 선택 합니다. \n",
    "- Knowledge Base name : graphrag-workshop\n",
    "- IAM permission : Create and use a new service role 선택\n",
    "- Choose data source : Amazon S3 선택\n",
    "그리고 Next 버튼을 누릅니다.\n",
    "</b>\n",
    "\n",
    "![graphrag03](../img/graphrag-03.png)"
   ]
  },
  {
   "cell_type": "markdown",
   "id": "bbed7443-ea06-4256-9ca0-4fcea02d60ab",
   "metadata": {},
   "source": [
    "<b> 다음과 같이 정보를 입력 및 선택 합니다. \n",
    "- Data source name : 10-q\n",
    "- S3 URI : <앞서 생성된 S3 경로 s3://~~~/data/> 를 입력 또는 선택 합니다.\n",
    "그리고 Next 버튼을 누릅니다.\n",
    "</b>\n",
    "\n",
    "![graphrag04](../img/graphrag-04.png)"
   ]
  },
  {
   "cell_type": "markdown",
   "id": "b98f0851-1d96-4015-8a08-1b42f36681c2",
   "metadata": {},
   "source": [
    "<b> 다음과 같이 정보를 입력 및 선택 합니다. \n",
    "- Embeddings model : Titan Text Embeddings V2\n",
    "- Vector store : Amazon Neptune Analytics (GraphRAG) - Preview\n",
    "그리고 Next 버튼을 누릅니다.\n",
    "</b>\n",
    "\n",
    "![graphrag05](../img/graphrag-05.png)"
   ]
  },
  {
   "cell_type": "markdown",
   "id": "82fcc8cb-0e05-40e0-9944-cf67e8646ebb",
   "metadata": {},
   "source": [
    "<b> KB 생성 정보를 확인 후, Create Knowledge Base 버튼을 누릅니다.\n",
    "</b>\n",
    "\n",
    "![graphrag06](../img/graphrag-06.png)"
   ]
  },
  {
   "cell_type": "markdown",
   "id": "487849c5-3910-4251-b397-1d56f0726bd9",
   "metadata": {},
   "source": [
    "<b> 수 분후 KB - GraphRAG가 생성되며, 여기서 다음 정보를 확인합니다.\n",
    "- Knowledge Base ID\n",
    "\n",
    "해당 정보는 다음 단계 수행을 위해 변수에 값을 저장 합니다.\n",
    "</b>\n",
    "\n",
    "![graphrag07](../img/graphrag-07.png)"
   ]
  },
  {
   "cell_type": "code",
   "execution_count": 17,
   "id": "cb96c214-376f-4774-be6a-39fbac742fd4",
   "metadata": {},
   "outputs": [],
   "source": [
    "# 생성한 KB - GraphRAG에 대한 kb_id 값 입력\n",
    "# 예시 : kb_id = \"WSPOHGBATW\"\n",
    "\n",
    "\n",
    "kb_id = \"본인 환경의 kb_id\"\n",
    "\n"
   ]
  },
  {
   "cell_type": "markdown",
   "id": "6b29ec38-4ea0-4fef-a71f-8740a9e5bd75",
   "metadata": {},
   "source": [
    "### KB 생성 완료 대기"
   ]
  },
  {
   "cell_type": "code",
   "execution_count": null,
   "id": "fa11c860-fded-463b-9638-a332c6b76816",
   "metadata": {},
   "outputs": [],
   "source": [
    "\"\"\"\n",
    "\n",
    "# Knowledge Base 생성 완료 대기\n",
    "def wait_for_kb_status(kb_id, target_status=\"ACTIVE\", max_attempts=30):\n",
    "    print(f\"Knowledge Base 상태 확인 중...\")\n",
    "    attempts = 0\n",
    "    \n",
    "    while attempts < max_attempts:\n",
    "        try:\n",
    "            response = bedrock_agent.get_knowledge_base(\n",
    "                knowledgeBaseId=kb_id\n",
    "            )\n",
    "            \n",
    "            current_status = response['knowledgeBase']['status']\n",
    "            print(f\"현재 상태: {current_status}\")\n",
    "            \n",
    "            if current_status == target_status:\n",
    "                print(f\"Knowledge Base가 {target_status} 상태가 되었습니다.\")\n",
    "                return True\n",
    "            \n",
    "            if current_status == \"FAILED\":\n",
    "                print(\"Knowledge Base 생성 실패\")\n",
    "                return False\n",
    "                \n",
    "            # 30초 대기 후 다시 확인\n",
    "            print(\"30초 후 다시 확인합니다...\")\n",
    "            time.sleep(30)\n",
    "            attempts += 1\n",
    "            \n",
    "        except Exception as e:\n",
    "            print(f\"상태 확인 중 오류 발생: {e}\")\n",
    "            return False\n",
    "    \n",
    "    print(f\"최대 시도 횟수({max_attempts})에 도달했습니다.\")\n",
    "    return False\n",
    "\n",
    "# KB 생성 완료 대기\n",
    "kb_ready = wait_for_kb_status(kb_id)\n",
    "if not kb_ready:\n",
    "    print(\"Knowledge Base 생성이 완료되지 않았습니다. 다음 단계로 진행하기 전에 AWS 콘솔에서 상태를 확인하세요.\")\n",
    "\n",
    "\"\"\""
   ]
  },
  {
   "cell_type": "markdown",
   "id": "80a5224f-47b4-4abe-9b6c-ebe50fd4f61b",
   "metadata": {},
   "source": [
    "<b> Data source 에서 Data Sync를 수행합니다.\n",
    "- Data source (10-q) 를 선택 합니다.\n",
    "- Sync 버튼을 누릅니다.\n",
    "몇 분 기다리면 Data Sync 가 완료 됩니다. 완료 되면, Status : Available 상태로 표시 됩니다.\n",
    "</b>\n",
    "\n",
    "![graphrag09](../img/graphrag-09.png)"
   ]
  },
  {
   "cell_type": "markdown",
   "id": "9387edb5-03b1-4066-9f9b-ffd46194c59a",
   "metadata": {},
   "source": [
    "---"
   ]
  },
  {
   "cell_type": "markdown",
   "id": "452ddbe5-5a0c-4e5b-92d2-3b863e8ac2ce",
   "metadata": {},
   "source": [
    "## 3. KB - GraphRAG 쿼리 실행\n",
    "- Claude 3.5 Sonnet 사용"
   ]
  },
  {
   "cell_type": "code",
   "execution_count": 18,
   "id": "0d838fc2-9dea-4000-b8df-3ca92e196244",
   "metadata": {},
   "outputs": [
    {
     "name": "stdout",
     "output_type": "stream",
     "text": [
      "WSPOHGBATW\n"
     ]
    }
   ],
   "source": [
    "# kb_id 값 확인\n",
    "\n",
    "print(kb_id)"
   ]
  },
  {
   "cell_type": "code",
   "execution_count": 32,
   "id": "781d20ce-8d10-4ce7-88a0-cc01b8634574",
   "metadata": {},
   "outputs": [],
   "source": [
    "def query_knowledge_base(query_text, model_id=\"anthropic.claude-3-sonnet-20240229-v1:0\", max_tokens=1000):\n",
    "    try:\n",
    "        # 검색 요청 구성\n",
    "        retrieve_response = bedrock_agent_runtime.retrieve(\n",
    "            knowledgeBaseId=kb_id,\n",
    "            retrievalQuery={\n",
    "                'text': query_text\n",
    "            },\n",
    "            retrievalConfiguration={\n",
    "                'vectorSearchConfiguration': {\n",
    "                    'numberOfResults': 3,\n",
    "                    'overrideSearchType': 'SEMANTIC'                    \n",
    "                }\n",
    "            }\n",
    "        )\n",
    "        \n",
    "        # 검색 결과 확인\n",
    "        retrieved_results = retrieve_response.get('retrievalResults', [])\n",
    "        \n",
    "        if not retrieved_results:\n",
    "            print(\"검색 결과가 없습니다.\")\n",
    "            return None\n",
    "        \n",
    "        # 검색 결과를 컨텍스트로 사용\n",
    "        context = \"\"\n",
    "        for i, result in enumerate(retrieved_results):\n",
    "            content = result['content']['text']\n",
    "            source = result.get('location', {}).get('s3Location', {}).get('uri', '알 수 없는 소스')\n",
    "            score = result.get('score', 0)\n",
    "            \n",
    "            context += f\"\\n\\n참고 문서 {i+1} (관련성 점수: {score}):\\n{content}\\n\"\n",
    "            print(f\"검색 결과 {i+1}: 관련성 점수 {score}\")\n",
    "        \n",
    "        # Claude에 질의 구성\n",
    "        prompt = f\"\"\"\n",
    "사용자의 질문에 답변해 주세요. 다음 참고 문서의 정보를 활용하세요:\n",
    "\n",
    "{context}\n",
    "\n",
    "사용자 질문: {query_text}\n",
    "\n",
    "답변:\n",
    "\"\"\"\n",
    "        \n",
    "        # Claude에 질의 요청 (수정된 부분)\n",
    "        response = bedrock_runtime.converse(\n",
    "            modelId=model_id,\n",
    "            messages=[\n",
    "                {\n",
    "                    \"role\": \"user\",\n",
    "                    \"content\": [\n",
    "                        {\n",
    "                            \"text\": prompt\n",
    "                        }\n",
    "                    ]\n",
    "                }\n",
    "            ],\n",
    "            inferenceConfig={\n",
    "                \"maxTokens\": max_tokens,\n",
    "                \"temperature\": 0.7,\n",
    "                \"topP\": 0.9\n",
    "            }\n",
    "        )\n",
    "        \n",
    "        # 응답 추출 및 반환\n",
    "        answer = response['output']['message']['content'][0]['text']\n",
    "        return answer\n",
    "        \n",
    "    except Exception as e:\n",
    "        print(f\"쿼리 실행 중 오류 발생: {e}\")\n",
    "        return None\n"
   ]
  },
  {
   "cell_type": "markdown",
   "id": "40c45d63-8ca9-4659-9754-a58662f527ab",
   "metadata": {},
   "source": [
    "### 사용자 쿼리 테스트"
   ]
  },
  {
   "cell_type": "code",
   "execution_count": 33,
   "id": "3760bab5-73fe-4a98-a91e-ac9eb9cc94c1",
   "metadata": {},
   "outputs": [
    {
     "name": "stdout",
     "output_type": "stream",
     "text": [
      "\n",
      "질문: Amazon의 총 순매출은 시간이 지남에 따라 어떻게 변화했나요?\n",
      "검색 결과 1: 관련성 점수 1.045573\n",
      "검색 결과 2: 관련성 점수 1.035476\n",
      "검색 결과 3: 관련성 점수 1.02006\n",
      "\n",
      "답변:\n",
      "제공된 문서를 바탕으로 Amazon의 총 순매출은 시간이 지남에 따라 증가하는 추세를 보이고 있습니다.\n",
      "\n",
      "구체적으로 문서 2와 3에서 Amazon의 분기별 총 순매출 수치를 확인할 수 있습니다.\n",
      "\n",
      "문서 2에 따르면, \n",
      "- 2022년 3분기 총 순매출은 $127,101백만\n",
      "- 2023년 3분기 총 순매출은 $143,083백만\n",
      "\n",
      "문서 3에 따르면,\n",
      "- 2021년 3분기 총 순매출은 $110,812백만 \n",
      "- 2022년 3분기 총 순매출은 $127,101백만\n",
      "\n",
      "또한 2021년과 2022년 9개월 누적 총 순매출을 비교해보면,\n",
      "- 2021년 9개월 누적 총 순매출은 $332,410백만\n",
      "- 2022년 9개월 누적 총 순매출은 $364,779백만\n",
      "\n",
      "이를 통해 Amazon의 총 순매출이 분기별, 연간 모두 전년 대비 증가한 것을 확인할 수 있습니다.\n",
      "--------------------------------------------------------------------------------\n",
      "\n",
      "질문: Amazon의 운영 비용 증가가 각 사업 부문의 수익성과 전반적인 재무 성과에 어떤 영향을 미쳤으며, 이는 다른 재무 지표들과 어떤 연관성을 보이나요?\n",
      "검색 결과 1: 관련성 점수 1.069845\n",
      "검색 결과 2: 관련성 점수 0.9136758\n",
      "검색 결과 3: 관련성 점수 0.7466082\n",
      "\n",
      "답변:\n",
      "참고 문서를 종합해볼 때, Amazon의 운영비용 증가는 다음과 같은 영향을 미친 것으로 보입니다:\n",
      "\n",
      "1. 매출 대비 운영비용 비율 증가\n",
      "- 2022년 3분기 운영비용은 전년 동기 대비 18% 증가한 1,246억 달러였습니다. \n",
      "- 매출액 대비 운영비용 비율도 95.4%에서 98.0%로 증가했습니다.\n",
      "- 이는 수익성 하락을 의미하며, 실제로 Amazon의 영업이익과 순이익이 감소했습니다.\n",
      "\n",
      "2. 개별 비용 항목별로는 다음과 같이 증가했습니다:\n",
      "- 판매 및 마케팅 비용: 38% 증가 (마케팅 지출 및 인력 증가)\n",
      "- 기술 및 콘텐츠 비용: 35% 증가\n",
      "- 일반관리비: 42% 증가 (인건비 및 전문가 수수료 증가)\n",
      "\n",
      "3. 현금흐름에 미치는 영향\n",
      "- 운전자본 증가, 투자 활동 등으로 현금 보유액이 전분기 대비 5,001백만 달러 감소했습니다.\n",
      "\n",
      "요컨대 Amazon의 운영비용 증가는 수익성 하락, 이익 감소, 현금 보유액 감소 등 전반적인 재무성과 악화로 이어졌습니다. 향후 비용 절감과 효율화를 통해 수익성을 개선해나가야 할 것으로 보입니다.\n",
      "--------------------------------------------------------------------------------\n"
     ]
    }
   ],
   "source": [
    "# 쿼리 예제 실행\n",
    "test_queries = [\n",
    "    \"Amazon의 총 순매출은 시간이 지남에 따라 어떻게 변화했나요?\",\n",
    "    \"Amazon의 운영 비용 증가가 각 사업 부문의 수익성과 전반적인 재무 성과에 어떤 영향을 미쳤으며, 이는 다른 재무 지표들과 어떤 연관성을 보이나요?\"\n",
    "]\n",
    "\n",
    "for query in test_queries:\n",
    "    print(f\"\\n질문: {query}\")\n",
    "    answer = query_knowledge_base(query)\n",
    "    if answer:\n",
    "        print(f\"\\n답변:\\n{answer}\")\n",
    "    print(\"-\" * 80)\n"
   ]
  },
  {
   "cell_type": "markdown",
   "id": "ee1c3c50-dd52-47df-bb5c-488ec4445cdc",
   "metadata": {},
   "source": [
    "---"
   ]
  },
  {
   "cell_type": "markdown",
   "id": "0478d7f3-5e26-4e3b-962d-07b0f4bc2d34",
   "metadata": {},
   "source": [
    "## 5. Clean-up"
   ]
  },
  {
   "cell_type": "code",
   "execution_count": null,
   "id": "5bb4d8a4-536d-454f-b9d3-4799dbd037ba",
   "metadata": {},
   "outputs": [],
   "source": [
    "# 워크샵에서 생성된 리소스 ID/이름 설정\n",
    "\n",
    "kb_id = \"여기에 Knowledge Base ID 입력\"\n",
    "bucket_name = \"여기에 S3 버킷 이름 입력\"\n",
    "\n",
    "\n",
    "# AWS 클라이언트 초기화\n",
    "import boto3\n",
    "region = boto3.session.Session().region_name\n",
    "bedrock_agent = boto3.client('bedrock-agent', region_name=region)\n",
    "s3 = boto3.client('s3', region_name=region)\n",
    "iam = boto3.client('iam', region_name=region)\n",
    "\n",
    "print(f\"리소스 정리를 위한 변수가 설정되었습니다: region: {region}\")"
   ]
  },
  {
   "cell_type": "code",
   "execution_count": null,
   "id": "b441b19d-0e90-4dc3-b3c0-be1a37f1f656",
   "metadata": {},
   "outputs": [],
   "source": [
    "# Knowledge Base 삭제\n",
    "try:\n",
    "    print(f\"Knowledge Base 삭제 중: {kb_id}\")\n",
    "    response = bedrock_agent.delete_knowledge_base(knowledgeBaseId=kb_id)\n",
    "    print(f\"Knowledge Base 삭제 요청이 성공적으로 제출되었습니다.\")\n",
    "    print(\"상태: 백그라운드에서 삭제 진행 중...\")\n",
    "except Exception as e:\n",
    "    print(f\"Knowledge Base 삭제 중 오류 발생: {e}\")"
   ]
  },
  {
   "cell_type": "code",
   "execution_count": null,
   "id": "fa0a776a-818b-4588-829f-b97693cc4be7",
   "metadata": {},
   "outputs": [],
   "source": [
    "# S3 버킷의 모든 객체 삭제 후 버킷 삭제\n",
    "import time\n",
    "\n",
    "try:\n",
    "    # 모든 객체 삭제\n",
    "    print(f\"S3 버킷 내 모든 객체 삭제 중: {bucket_name}\")\n",
    "\n",
    "    # 모든 객체 나열 및 삭제\n",
    "    paginator = s3.get_paginator('list_objects_v2')\n",
    "    object_count = 0\n",
    "\n",
    "    for page in paginator.paginate(Bucket=bucket_name):\n",
    "        if 'Contents' in page:\n",
    "            objects = [{'Key': obj['Key']} for obj in page['Contents']]\n",
    "            s3.delete_objects(Bucket=bucket_name, Delete={'Objects': objects})\n",
    "            object_count += len(objects)\n",
    "\n",
    "    print(f\"{object_count}개 객체 삭제 완료\")\n",
    "\n",
    "    # 버전 관리된 객체 삭제 (필요시)\n",
    "    try:\n",
    "        paginator = s3.get_paginator('list_object_versions')\n",
    "        version_count = 0\n",
    "\n",
    "        for page in paginator.paginate(Bucket=bucket_name):\n",
    "            delete_list = []\n",
    "\n",
    "            # 버전 삭제\n",
    "            if 'Versions' in page:\n",
    "                delete_list.extend([{'Key': obj['Key'], 'VersionId': obj['VersionId']} for obj in page['Versions']])\n",
    "\n",
    "            # 삭제 마커 제거\n",
    "            if 'DeleteMarkers' in page:\n",
    "                delete_list.extend([{'Key': obj['Key'], 'VersionId': obj['VersionId']} for obj in page['DeleteMarkers']])\n",
    "\n",
    "            if delete_list:\n",
    "                s3.delete_objects(Bucket=bucket_name, Delete={'Objects': delete_list})\n",
    "                version_count += len(delete_list)\n",
    "\n",
    "        if version_count > 0:\n",
    "            print(f\"{version_count}개 객체 버전/삭제 마커 제거 완료\")\n",
    "    except Exception as e:\n",
    "        print(f\"버전 제거 중 오류(무시 가능): {e}\")\n",
    "\n",
    "    # 잠시 대기 (모든 객체가 삭제되기를 기다림)\n",
    "    time.sleep(3)\n",
    "\n",
    "    # 버킷 삭제\n",
    "    print(f\"S3 버킷 삭제 중: {bucket_name}\")\n",
    "    s3.delete_bucket(Bucket=bucket_name)\n",
    "    print(f\"S3 버킷 삭제 완료: {bucket_name}\")\n",
    "\n",
    "except Exception as e:\n",
    "    print(f\"S3 버킷 삭제 중 오류 발생: {e}\")"
   ]
  }
 ],
 "metadata": {
  "kernelspec": {
   "display_name": "conda_python3",
   "language": "python",
   "name": "conda_python3"
  },
  "language_info": {
   "codemirror_mode": {
    "name": "ipython",
    "version": 3
   },
   "file_extension": ".py",
   "mimetype": "text/x-python",
   "name": "python",
   "nbconvert_exporter": "python",
   "pygments_lexer": "ipython3",
   "version": "3.10.16"
  }
 },
 "nbformat": 4,
 "nbformat_minor": 5
}
